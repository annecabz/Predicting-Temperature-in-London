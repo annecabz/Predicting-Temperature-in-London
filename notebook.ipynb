{
 "cells": [
  {
   "cell_type": "markdown",
   "id": "42a0676a-ba47-4e32-93f9-913bb233ed9c",
   "metadata": {},
   "source": [
    "![tower_bridge](tower_bridge.jpeg)\n",
    "\n",
    "As the climate changes, predicting the weather becomes ever more important for businesses. Since the weather depends on a lot of different factors, you will want to run a lot of experiments to determine what the best approach is to predict the weather. In this project, you will run experiments for different regression models predicting the mean temperature, using a combination of `sklearn` and `MLflow`.\n",
    "\n",
    "You will be working with data stored in `london_weather.csv`, which contains the following columns:\n",
    "- **date** - recorded date of measurement - (**int**)\n",
    "- **cloud_cover** - cloud cover measurement in oktas - (**float**)\n",
    "- **sunshine** - sunshine measurement in hours (hrs) - (**float**)\n",
    "- **global_radiation** - irradiance measurement in Watt per square meter (W/m2) - (**float**)\n",
    "- **max_temp** - maximum temperature recorded in degrees Celsius (°C) - (**float**)\n",
    "- **mean_temp** - mean temperature in degrees Celsius (°C) - (**float**)\n",
    "- **min_temp** - minimum temperature recorded in degrees Celsius (°C) - (**float**)\n",
    "- **precipitation** - precipitation measurement in millimeters (mm) - (**float**)\n",
    "- **pressure** - pressure measurement in Pascals (Pa) - (**float**)\n",
    "- **snow_depth** - snow depth measurement in centimeters (cm) - (**float**)"
   ]
  },
  {
   "cell_type": "code",
   "execution_count": null,
   "id": "9ef942ef",
   "metadata": {},
   "outputs": [],
   "source": [
    "# Run this cell to import the modules you require\n",
    "import pandas as pd\n",
    "import numpy as np\n",
    "import matplotlib.pyplot as plt\n",
    "import seaborn as sns\n",
    "from sklearn.model_selection import train_test_split\n",
    "from sklearn.metrics import mean_squared_error\n",
    "from sklearn.impute import SimpleImputer\n",
    "from sklearn.preprocessing import StandardScaler\n",
    "from sklearn.linear_model import LinearRegression\n",
    "from sklearn.tree import DecisionTreeRegressor\n",
    "from sklearn.ensemble import RandomForestRegressor\n",
    "import mlflow\n",
    "import mlflow.sklearn"
   ]
  },
  {
   "cell_type": "code",
   "execution_count": null,
   "id": "3b4c5cc4",
   "metadata": {},
   "outputs": [],
   "source": [
    "# Read in the data\n",
    "weather = pd.read_csv(\"london_weather.csv\")\n",
    "weather.head()"
   ]
  },
  {
   "cell_type": "code",
   "execution_count": null,
   "id": "ca1f79c7",
   "metadata": {},
   "outputs": [],
   "source": [
    "# Determine the column names, data types, number of non-null vales\n",
    "weather.info()"
   ]
  },
  {
   "cell_type": "code",
   "execution_count": null,
   "id": "f5fcf8da",
   "metadata": {},
   "outputs": [],
   "source": [
    "# Data cleaning\n",
    "# Working with the date column\n",
    "weather['date'] = pd.to_datetime(weather['date'], format='%Y%m%d')\n",
    "weather.info()"
   ]
  },
  {
   "cell_type": "code",
   "execution_count": null,
   "id": "474c192c",
   "metadata": {},
   "outputs": [],
   "source": [
    "# Extracting more date information\n",
    "weather['year'] = weather['date'].dt.year \n",
    "weather['month'] = weather['date'].dt.month"
   ]
  },
  {
   "cell_type": "code",
   "execution_count": null,
   "id": "e5234ba6",
   "metadata": {},
   "outputs": [],
   "source": [
    "# Exploratory data analysis\n",
    "weather_numerical = ['cloud_cover', 'sunshine', 'global_radiation', 'max_temp', 'mean_temp', 'min_temp', 'precipitation', 'pressure', 'snow_depth',]\n",
    "weather_per_month = weather.groupby(['year', 'month'], as_index=False)[weather_numerical].mean()\n",
    "\n",
    "# Visualizing temperature\n",
    "sns.lineplot(x='year', y='mean_temp', data=weather_per_month, ci=None)\n",
    "plt.show()\n",
    "sns.heatmap(weather.corr(), annot=True)\n",
    "plt.show()"
   ]
  },
  {
   "cell_type": "code",
   "execution_count": null,
   "id": "5b30b5d8",
   "metadata": {},
   "outputs": [],
   "source": [
    "# Feature selection\n",
    "# Filter features\n",
    "feature_selection = ['cloud_cover', 'sunshine', 'precipitation', 'pressure', 'global_radiation', 'month']\n",
    "weather = weather.dropna(subset=['mean_temp'])\n",
    "X = weather[feature_selection]\n",
    "y = weather['mean_temp']"
   ]
  },
  {
   "cell_type": "code",
   "execution_count": null,
   "id": "99ed5aed",
   "metadata": {},
   "outputs": [],
   "source": [
    "# Preprocess data\n",
    "# Imputing and normalizing data\n",
    "X_train, X_test, y_train, y_test = train_test_split(X, y, test_size=0.33, random_state=1)\n",
    "imputer = SimpleImputer(strategy='mean')\n",
    "X_train = imputer.fit_transform(X_train)\n",
    "X_test = imputer.transform(X_test)\n",
    "scaler = StandardScaler()\n",
    "X_train = scaler.fit_transform(X_train)\n",
    "X_test = scaler.transform(X_test)"
   ]
  },
  {
   "cell_type": "code",
   "execution_count": null,
   "id": "135fc768",
   "metadata": {},
   "outputs": [],
   "source": [
    "# Machine learning training and evaluation\n",
    "# Building a for loop to try different hyperparameters\n",
    "for idx, depth in enumerate([1, 2, 10]):\n",
    "    run_name = f\"run_{idx}\"\n",
    "\n",
    "    with mlflow.start_run(run_name=run_name):\n",
    "        \n",
    "        lr = LinearRegression().fit(X_train, y_train) \n",
    "        dtr= DecisionTreeRegressor(random_state=42, max_depth=depth).fit(X_train, y_train)\n",
    "        rfr = RandomForestRegressor(random_state=42, max_depth=depth).fit(X_train, y_train)\n",
    "    \n",
    "        # Logging and evaluating\n",
    "        mlflow.sklearn.log_model(lr, 'Linear Regression')\n",
    "        mlflow.sklearn.log_model(dtr, 'Decision Tree Regressor')\n",
    "        mlflow.sklearn.log_model(rfr, 'Random Forest Regressor')\n",
    "\n",
    "        y_pred_lr = lr.predict(X_test)\n",
    "        lr_rmse = mean_squared_error(y_test, y_pred_lr, squared=False)\n",
    "        y_pred_dtr = dtr.predict(X_test)\n",
    "        dtr_rmse = mean_squared_error(y_test, y_pred_dtr, squared=False)\n",
    "        y_pred_rfr = rfr.predict(X_test)\n",
    "        rfr_rmse = mean_squared_error(y_test, y_pred_rfr, squared=False)\n",
    "        \n",
    "        mlflow.log_param('max_depth', depth)\n",
    "        mlflow.log_metric('rmse_lr', lr_rmse)\n",
    "        mlflow.log_metric('rmse_dtr', dtr_rmse)\n",
    "        mlflow.log_metric('rmse_rfr', rfr_rmse)"
   ]
  },
  {
   "cell_type": "code",
   "execution_count": null,
   "id": "3a2608a5",
   "metadata": {},
   "outputs": [],
   "source": [
    "# Searching your logged results\n",
    "# Searching runs\n",
    "experiment_results = mlflow.search_runs()\n",
    "experiment_results"
   ]
  }
 ],
 "metadata": {
  "colab": {
   "name": "Welcome to DataCamp Workspaces.ipynb",
   "provenance": []
  },
  "kernelspec": {
   "display_name": "base",
   "language": "python",
   "name": "python3"
  },
  "language_info": {
   "codemirror_mode": {
    "name": "ipython",
    "version": 3
   },
   "file_extension": ".py",
   "mimetype": "text/x-python",
   "name": "python",
   "nbconvert_exporter": "python",
   "pygments_lexer": "ipython3",
   "version": "3.8.3"
  }
 },
 "nbformat": 4,
 "nbformat_minor": 5
}
